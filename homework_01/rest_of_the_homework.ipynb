{
 "cells": [
  {
   "cell_type": "markdown",
   "metadata": {},
   "source": [
    "**List Comprehension**"
   ]
  },
  {
   "cell_type": "code",
   "execution_count": 33,
   "metadata": {},
   "outputs": [
    {
     "name": "stdout",
     "output_type": "stream",
     "text": [
      "[0, 1, 4, 9, 16, 25, 36, 49, 64, 81, 100, 121, 144, 169, 196, 225, 256, 289, 324, 361, 400, 441, 484, 529, 576, 625, 676, 729, 784, 841, 900, 961, 1024, 1089, 1156, 1225, 1296, 1369, 1444, 1521, 1600, 1681, 1764, 1849, 1936, 2025, 2116, 2209, 2304, 2401, 2500, 2601, 2704, 2809, 2916, 3025, 3136, 3249, 3364, 3481, 3600, 3721, 3844, 3969, 4096, 4225, 4356, 4489, 4624, 4761, 4900, 5041, 5184, 5329, 5476, 5625, 5776, 5929, 6084, 6241, 6400, 6561, 6724, 6889, 7056, 7225, 7396, 7569, 7744, 7921, 8100, 8281, 8464, 8649, 8836, 9025, 9216, 9409, 9604, 9801]\n",
      "[0, 4, 16, 36, 64, 100, 144, 196, 256, 324, 400, 484, 576, 676, 784, 900, 1024, 1156, 1296, 1444, 1600, 1764, 1936, 2116, 2304, 2500, 2704, 2916, 3136, 3364, 3600, 3844, 4096, 4356, 4624, 4900, 5184, 5476, 5776, 6084, 6400, 6724, 7056, 7396, 7744, 8100, 8464, 8836, 9216, 9604]\n"
     ]
    }
   ],
   "source": [
    "print ([x*x for x in range(100)])\n",
    "print ([x*x for x in range(100) if x % 2==0])\n"
   ]
  },
  {
   "cell_type": "markdown",
   "metadata": {},
   "source": [
    "**Generators**"
   ]
  },
  {
   "cell_type": "code",
   "execution_count": 146,
   "metadata": {},
   "outputs": [
    {
     "name": "stdout",
     "output_type": "stream",
     "text": [
      "Meow\n",
      "Meow Meow\n",
      "Meow Meow Meow Meow\n",
      "Meow Meow Meow Meow Meow Meow Meow Meow\n"
     ]
    }
   ],
   "source": [
    "def generator_func (n):\n",
    "    count=0\n",
    "    var=\"Meow\"\n",
    "    while count < n:\n",
    "        #yield var: faire une recherche sur comment ça s'utilise\n",
    "        print(var)\n",
    "        count+= 1\n",
    "        var = var + \" \"+ var\n",
    "    return(var)\n",
    "#attribution d'une valeur spécifique à n\n",
    "print(generator_func(3))\n"
   ]
  },
  {
   "cell_type": "markdown",
   "metadata": {},
   "source": [
    "**NumPy**"
   ]
  },
  {
   "cell_type": "code",
   "execution_count": 36,
   "metadata": {},
   "outputs": [
    {
     "name": "stdout",
     "output_type": "stream",
     "text": [
      "[[5 8 9 5 0]\n",
      " [0 1 7 6 9]]\n",
      "[[25 64 81 25 42]\n",
      " [42  1 49 36 81]]\n",
      "[[25 64 81 25]\n",
      " [42  1 49 36]]\n"
     ]
    }
   ],
   "source": [
    "import numpy as np\n",
    "from numpy.random import seed\n",
    "from numpy.random import randint\n",
    "seed(1)\n",
    "#set 2 lists of random numbers\n",
    "l1 = [randint(10) for i in range(5)] \n",
    "l2 = [randint(10) for i in range(5)]\n",
    "#create a 2 dimensions Numpy array\n",
    "a = np.array([l1, l2])\n",
    "print (a)\n",
    "x, y = a.shape # the dimensions of the table\n",
    "#Test the conditions every number in the table \n",
    "for i in range(x):\n",
    "    for j in range(y):\n",
    "        if a[i,j]>0.9: #If the number > 0.9\n",
    "            a[i,j]= a[i,j]* a[i,j] # replace it with his square\n",
    "        else:  #If the number < 0.9\n",
    "            a[i,j]=42 #replace with 42\n",
    "\n",
    "print (a) #print the table with the square or 42\n",
    "print ( a[ : , :4]) # print only 4 columns ofv the table"
   ]
  }
 ],
 "metadata": {
  "kernelspec": {
   "display_name": "Python 3",
   "language": "python",
   "name": "python3"
  },
  "language_info": {
   "codemirror_mode": {
    "name": "ipython",
    "version": 3
   },
   "file_extension": ".py",
   "mimetype": "text/x-python",
   "name": "python",
   "nbconvert_exporter": "python",
   "pygments_lexer": "ipython3",
   "version": "3.11.5"
  }
 },
 "nbformat": 4,
 "nbformat_minor": 2
}
